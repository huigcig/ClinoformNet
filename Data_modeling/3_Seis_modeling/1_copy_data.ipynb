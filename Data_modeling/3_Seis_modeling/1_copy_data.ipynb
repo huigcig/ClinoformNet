{
 "cells": [
  {
   "cell_type": "markdown",
   "id": "0200a1ce-c4ed-4b27-a3b5-e9830c6a2b3e",
   "metadata": {},
   "source": [
    "## create the floder"
   ]
  },
  {
   "cell_type": "code",
   "execution_count": 1,
   "id": "1081dda3-211e-46f2-9012-088d5727d424",
   "metadata": {},
   "outputs": [
    {
     "name": "stdout",
     "output_type": "stream",
     "text": [
      "./fsm/data/models/model0---create successfully\n"
     ]
    }
   ],
   "source": [
    "import os \n",
    "from shutil import copy\n",
    "import os,sys\n",
    "\n",
    "def mkdir(path):\n",
    "    import os\n",
    "    path=path.strip()\n",
    "    path=path.rstrip(\"\\\\\")\n",
    "    isExists=os.path.exists(path)\n",
    "    if not isExists:\n",
    "        os.makedirs(path) \n",
    "        print(path + '---create successfully')\n",
    "        return True\n",
    "    else:\n",
    "        print(path+'---the folder exiting')\n",
    "        return False\n",
    "for i in range(1):\n",
    "    mkpath = \"./fsm/data/models/model\"+str(i)\n",
    "    mkdir(mkpath)"
   ]
  },
  {
   "cell_type": "code",
   "execution_count": 3,
   "id": "8ee45ea5-9b8d-4307-b729-e3d49d43a981",
   "metadata": {},
   "outputs": [
    {
     "name": "stdout",
     "output_type": "stream",
     "text": [
      "0\n"
     ]
    }
   ],
   "source": [
    "file_name1 = \"Poro_img0.dat\"\n",
    "file_name2 = \"RGT_img0.dat\"\n",
    "file_name3 = \"Slope_img0.dat\"\n",
    "file_name4 = \"Elev_img0.dat\"\n",
    "file_name5 = \"ZP_2d.dat\"\n",
    "file_name6 = \"ZS_2d.dat\"\n",
    "file_name7 = \"Poro_vol_2d.dat\"\n",
    "file_name8 = \"ZP_vol_2d.dat\"\n",
    "file_name9 = \"ZS_vol_2d.dat\"\n",
    "file_name10 = \"Vp_vol_2d.dat\"\n",
    "file_name11 = \"Vs_vol_2d.dat\"\n",
    "file_name12 = \"Rho_vol_2d.dat\"\n",
    "file_name13 = \"Vp_2d.dat\"\n",
    "file_name14 = \"Volmask_2d.dat\"\n",
    "\n",
    "\n",
    "for i in range(1):\n",
    "    print(i)\n",
    "    # copy file\n",
    "    file_path=\"../2_Processes/processed_models/model\"+str(i)+\"/\"\n",
    "    from_path1 = os.path.join(file_path,file_name1)\n",
    "    from_path2 = os.path.join(file_path,file_name2)\n",
    "    from_path3 = os.path.join(file_path,file_name3)\n",
    "    from_path4 = os.path.join(file_path,file_name4)\n",
    "    from_path5 = os.path.join(file_path,file_name5)\n",
    "    from_path6 = os.path.join(file_path,file_name6)\n",
    "    from_path7 = os.path.join(file_path,file_name7)\n",
    "    from_path8 = os.path.join(file_path,file_name8)\n",
    "    from_path9 = os.path.join(file_path,file_name9)\n",
    "    from_path10 = os.path.join(file_path,file_name10)\n",
    "    from_path11 = os.path.join(file_path,file_name11)\n",
    "    from_path12 = os.path.join(file_path,file_name12)\n",
    "    from_path13 = os.path.join(file_path,file_name13)\n",
    "    from_path14 = os.path.join(file_path,file_name14)\n",
    "    \n",
    "    save_path = \"./fsm/data/models/model\"+str(i)+\"/\"\n",
    "    \n",
    "    to_path1 = save_path + file_name1\n",
    "    to_path2 = save_path + file_name2\n",
    "    to_path3 = save_path + file_name3\n",
    "    to_path4 = save_path + file_name4\n",
    "    to_path5 = save_path + file_name5\n",
    "    to_path6 = save_path + file_name6\n",
    "    to_path7 = save_path + file_name7\n",
    "    to_path8 = save_path + file_name8\n",
    "    to_path9 = save_path + file_name9\n",
    "    to_path10 = save_path + file_name10\n",
    "    to_path11 = save_path + file_name11\n",
    "    to_path12 = save_path + file_name12\n",
    "    to_path13 = save_path + file_name13\n",
    "    to_path14 = save_path + file_name14\n",
    "    \n",
    "    copy(from_path1,to_path1)\n",
    "    copy(from_path2,to_path2)\n",
    "    copy(from_path3,to_path3)\n",
    "    copy(from_path4,to_path4)\n",
    "    copy(from_path5,to_path5)\n",
    "    copy(from_path6,to_path6)\n",
    "    copy(from_path7,to_path7)\n",
    "    copy(from_path8,to_path8)\n",
    "    copy(from_path9,to_path9)\n",
    "    copy(from_path10,to_path10)\n",
    "    copy(from_path11,to_path11)\n",
    "    copy(from_path12,to_path12)\n",
    "    copy(from_path13,to_path13)\n",
    "    copy(from_path14,to_path14)"
   ]
  },
  {
   "cell_type": "code",
   "execution_count": 6,
   "id": "4cc5ffd8-0399-4c3c-a4d5-135610bd311a",
   "metadata": {},
   "outputs": [],
   "source": [
    "import numpy as np\n",
    "\n",
    "y = []\n",
    "xmax = 0\n",
    "index = 0\n",
    "for i in range(1):\n",
    "    file_path=\"./fsm/data/models/model\"+str(i)+\"/RGT_img0.dat\"\n",
    "    vol = np.fromfile(file_path,dtype=np.float32)\n",
    "    y.append(int(len(vol)/1600))\n",
    "    x = int(len(vol)/1600)\n",
    "    if(x>xmax):\n",
    "        xmax = x\n",
    "        index = i\n",
    "np.savetxt(\"./fsm/src/fsm/models_shape.txt\",y,fmt=\"%d\")"
   ]
  },
  {
   "cell_type": "code",
   "execution_count": null,
   "id": "53e99c84-87d0-4493-8396-d35139b55266",
   "metadata": {},
   "outputs": [],
   "source": []
  }
 ],
 "metadata": {
  "kernelspec": {
   "display_name": "Python 3 (ipykernel)",
   "language": "python",
   "name": "python3"
  },
  "language_info": {
   "codemirror_mode": {
    "name": "ipython",
    "version": 3
   },
   "file_extension": ".py",
   "mimetype": "text/x-python",
   "name": "python",
   "nbconvert_exporter": "python",
   "pygments_lexer": "ipython3",
   "version": "3.9.1"
  }
 },
 "nbformat": 4,
 "nbformat_minor": 5
}
