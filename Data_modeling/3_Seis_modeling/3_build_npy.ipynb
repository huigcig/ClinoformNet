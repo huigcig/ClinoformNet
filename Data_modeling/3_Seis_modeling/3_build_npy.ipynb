{
 "cells": [
  {
   "cell_type": "code",
   "execution_count": 2,
   "id": "cfe7fc46-0d38-405e-9b5b-4c60836f6719",
   "metadata": {},
   "outputs": [],
   "source": [
    "import os \n",
    "from shutil import copy\n",
    "import matplotlib.pyplot as plt\n",
    "import os,sys\n",
    "import numpy as np\n",
    "\n",
    "def mkdir(path):\n",
    "    import os\n",
    "    path=path.strip() \n",
    "    path=path.rstrip(\"\\\\\") \n",
    "    isExists=os.path.exists(path)\n",
    "    if not isExists:\n",
    "        os.makedirs(path) \n",
    "        return True\n",
    "    else:\n",
    "        return False\n",
    "    \n",
    "def write_cube2d(data, path):\n",
    "    data = np.transpose(data, [0, 1]).astype(np.single)\n",
    "    data.tofile(path) "
   ]
  },
  {
   "cell_type": "code",
   "execution_count": 3,
   "id": "eb21ac25-ef29-4923-9802-23abf9c00db6",
   "metadata": {},
   "outputs": [
    {
     "name": "stdout",
     "output_type": "stream",
     "text": [
      "0\n"
     ]
    }
   ],
   "source": [
    "filename = \"./fsm/data/models/model\"\n",
    "\n",
    "for num in range(1):\n",
    "    print(num)\n",
    "    spns = np.fromfile(filename + str(num)+ \"/spns.dat\",dtype=np.float32).reshape((1600,256))\n",
    "    label = np.fromfile(filename + str(num)+ \"/label.dat\",dtype=np.float32).reshape((1600,256))\n",
    "    rgt = np.fromfile(filename + str(num)+ \"/rgt.dat\",dtype=np.float32).reshape((1600,256))\n",
    "    mask = np.zeros((1600,256))\n",
    "    mask[label==1]=1\n",
    "    mask[label==0]=1\n",
    "    \n",
    "    filter4 = np.fromfile(filename + str(num)+ \"/filter-4times.dat\",dtype=np.float32).reshape((64,400,7,7))\n",
    "    filter16 = np.fromfile(filename + str(num)+ \"/filter-16times.dat\",dtype=np.float32).reshape((16,100,5,5))\n",
    "    \n",
    "    sample = {\"spns\":spns.T,\"rgt\":rgt.T,\"label\":label.T,\"mask\":mask.T,\"filter4\":filter4, \"filter16\":filter16}\n",
    "    np.save(\"./Training_dataset/\" + str(num),sample)"
   ]
  },
  {
   "cell_type": "code",
   "execution_count": null,
   "id": "79b9bec2-9ef1-4dc8-bd14-3c060da20c14",
   "metadata": {},
   "outputs": [],
   "source": []
  }
 ],
 "metadata": {
  "kernelspec": {
   "display_name": "Python 3 (ipykernel)",
   "language": "python",
   "name": "python3"
  },
  "language_info": {
   "codemirror_mode": {
    "name": "ipython",
    "version": 3
   },
   "file_extension": ".py",
   "mimetype": "text/x-python",
   "name": "python",
   "nbconvert_exporter": "python",
   "pygments_lexer": "ipython3",
   "version": "3.9.1"
  }
 },
 "nbformat": 4,
 "nbformat_minor": 5
}
