{
 "cells": [
  {
   "cell_type": "code",
   "execution_count": 13,
   "metadata": {},
   "outputs": [],
   "source": [
    "import os\n",
    "import math\n",
    "import random\n",
    "import numpy as np\n",
    "import random\n",
    "import torch\n",
    "import models\n",
    "from models import DeepLab\n",
    "import draw, utils"
   ]
  },
  {
   "cell_type": "code",
   "execution_count": 14,
   "metadata": {},
   "outputs": [
    {
     "name": "stdout",
     "output_type": "stream",
     "text": [
      "GPU 数量: 1\n",
      "运行平台: cuda\n"
     ]
    }
   ],
   "source": [
    "os.environ['CUDA_VISIBLE_DEVICES']= '5'\n",
    "\n",
    "device = torch.device(\"cuda\" if torch.cuda.is_available() else \"cpu\")\n",
    "\n",
    "if torch.cuda.is_available():\n",
    "    num_GPU = torch.cuda.device_count()\n",
    "    print(f\"GPU number: {num_GPU}\")\n",
    "print(f\"operation platform: {device}\")\n",
    "    \n",
    "root_path = os.path.abspath('.')"
   ]
  },
  {
   "cell_type": "code",
   "execution_count": 75,
   "metadata": {},
   "outputs": [
    {
     "name": "stdout",
     "output_type": "stream",
     "text": [
      "训练样本数量: 1600\n",
      "验证样本数量: 400\n"
     ]
    }
   ],
   "source": [
    "dataset_name = \"Models\"\n",
    "dataset_path = os.path.join(root_path, \"datasets\", dataset_name)\n",
    "                            \n",
    "samples_train = np.load(os.path.join(dataset_path, 'samples_train.npy'), allow_pickle=True)\n",
    "samples_valid = np.load(os.path.join(dataset_path, 'samples_valid.npy'), allow_pickle=True)\n",
    "# print(samples_valid)\n",
    "\n",
    "print(f'The number of training samples：{len(samples_train)}')\n",
    "print(f'The number of validation samples：{len(samples_valid)}')\n",
    "\n",
    "train_sample_path = os.path.join(dataset_path, \"Training_dataset\")\n",
    "input_attr_list, output_attr_list,mask_attr_list= [\"spns\"], [\"label\"],[\"mask\"]\n",
    "filter4_attr_list, filter16_attr_list = [\"filter4\"],[\"filter16\"]\n"
   ]
  },
  {
   "cell_type": "code",
   "execution_count": 76,
   "metadata": {},
   "outputs": [
    {
     "name": "stdout",
     "output_type": "stream",
     "text": [
      "模型读取路径: checkpoints/DeepLab-noconnect-nosmooth\n"
     ]
    }
   ],
   "source": [
    "# 定义网络\n",
    "param_model = {}\n",
    "param_model['backbone'] = \"DeepLab\"\n",
    "param_model['input_channels'] = 1\n",
    "param_model['output_channels'] = 2\n",
    "\n",
    "dataset_name = \"largescale\"\n",
    "session_name = '-'.join([param_model['backbone'], dataset_name])\n",
    "# # model = UNet(param_model)\n",
    "# model = DeepLab(param_model)\n",
    "model = getattr(models, param_model['backbone'])(param_model)\n",
    "\n",
    "if torch.cuda.is_available():\n",
    "    model = torch.nn.DataParallel(model, device_ids=range(num_GPU)).to(device)\n",
    "else:\n",
    "    model = model.to(device) \n",
    "    \n",
    "# model save ath \n",
    "checkpoint_path = os.path.join('checkpoints', session_name)\n",
    "if not os.path.exists(checkpoint_path):\n",
    "    os.makedirs(checkpoint_path)\n",
    "print(f\"model folder: {checkpoint_path}\")"
   ]
  },
  {
   "cell_type": "code",
   "execution_count": 77,
   "metadata": {},
   "outputs": [
    {
     "name": "stdout",
     "output_type": "stream",
     "text": [
      "测试样本数量: 400\n"
     ]
    }
   ],
   "source": [
    "model.load_state_dict(torch.load(os.path.join(checkpoint_path, 'checkpoint-best.pth'))['state_dict'])\n",
    "samples_test = np.load(os.path.join(dataset_path, 'samples_valid.npy'), allow_pickle=True)\n",
    "print(f\"the numver of test: {len(samples_test)}\")"
   ]
  },
  {
   "cell_type": "code",
   "execution_count": 78,
   "metadata": {},
   "outputs": [],
   "source": [
    "input_attrs, output_attrs = [\"spns\"],[\"label\"]\n",
    "filter4_attrs,filter16_attrs = [\"filter4\"],[\"filter16\"]\n",
    "\n",
    "test_sample_path = os.path.join(dataset_path, \"Training_datasets\")\n",
    "test_data =  utils.build_dataset(samples_test, test_sample_path,'Train',mask=True, \n",
    "                                 input_attr_list=input_attr_list, output_attr_list=output_attr_list,\n",
    "                                 filter4_attr_list = filter4_attr_list, filter16_attr_list = filter16_attr_list )"
   ]
  },
  {
   "cell_type": "code",
   "execution_count": 1,
   "metadata": {},
   "outputs": [],
   "source": [
    "idxs = np.random.randint(0, len(test_data), size=6) \n",
    "batch_samples = [test_data[i] for i in idxs]\n",
    "draw_attr_list = [\"spns\",\"label\",\"mask\"]\n",
    "draw.draw_samples(batch_samples, draw_attr_list, save=False,cmap=[\"gray\", \"jet\",\"jet\"], save_file='samples.png')"
   ]
  },
  {
   "cell_type": "code",
   "execution_count": 81,
   "metadata": {},
   "outputs": [
    {
     "name": "stdout",
     "output_type": "stream",
     "text": [
      "done\n"
     ]
    }
   ],
   "source": [
    "import torch.nn.functional as F\n",
    "from torch.utils.data import Dataset, DataLoader\n",
    "from torch.autograd import Variable\n",
    "\n",
    "def pred(model, test_data):\n",
    "    device = torch.device(\"cuda\" if torch.cuda.is_available() else \"cpu\")\n",
    "    test_loader = DataLoader(dataset=test_data, batch_size=1, shuffle=False)\n",
    "    \n",
    "    model.eval()\n",
    "    pred_samples = []\n",
    "    with torch.no_grad():\n",
    "        for batch_idx, batch_samples in enumerate(test_loader):\n",
    "\n",
    "#             data = batch_samples['sx']\n",
    "            for i, input_attr in enumerate(input_attrs):\n",
    "                tmp = batch_samples[input_attr]\n",
    "                if i  == 0:\n",
    "                    data = tmp\n",
    "                else:\n",
    "                    data = torch.cat((data, tmp), dim=1)\n",
    "                    \n",
    "            for j, filter4_attr in enumerate(filter4_attrs): # filter\n",
    "                tmp_f4 = batch_samples[filter4_attr]\n",
    "                if j  == 0:\n",
    "                    filter4 = tmp_f4\n",
    "                else:\n",
    "                    filter4 = torch.cat((filter4, tmp_f4), dim=1)\n",
    "                    \n",
    "            for j, filter16_attr in enumerate(filter16_attrs): # filter\n",
    "                tmp_f16 = batch_samples[filter16_attr]\n",
    "                if j  == 0:\n",
    "                    filter16 = tmp_f16\n",
    "                else:\n",
    "                    filter16 = torch.cat((filter16, tmp_f16), dim=1)\n",
    "            \n",
    "            mask = batch_samples[\"mask\"]\n",
    "#             print(f\"batch_samples['sx']:{data.shape}\")\n",
    "            data = utils.mea_std_norm(data)\n",
    "    \n",
    "            data = data.unsqueeze(1)\n",
    "            filter4 = filter4.unsqueeze(1)\n",
    "            filter16 = filter16.unsqueeze(1)\n",
    "            target = batch_samples[output_attrs[0]].long().squeeze(1)\n",
    "\n",
    "            data, target = data.to(device), target.to(device)\n",
    "            filter4,filter16 = filter4.to(device),filter16.to(device)\n",
    "            data, target = Variable(data), Variable(target)\n",
    "            filter4,filter16 = Variable(filter4),Variable(filter16)\n",
    "            \n",
    "            target_i = model(data,filter4,filter16)  \n",
    "            \n",
    "            if target_i.shape[1] > 1:\n",
    "                target_j = F.softmax(target_i, dim=1)\n",
    "                target_j = torch.argmax(target_j, dim=1, keepdim=True)\n",
    "            else:\n",
    "                target_j = torch.sigmoid(target_i[:,:1])\n",
    "                target_j = utils.threshold_predictions(target_j, thr=0.6)\n",
    "            \n",
    "            target_prob = F.softmax(target_i, dim=1)\n",
    "            target_prob0 = target_prob[:,0,:,:]\n",
    "            target_prob1 = target_prob[:,1,:,:]\n",
    "            target_prob0 = target_prob0.unsqueeze(1)\n",
    "            target_prob1 = target_prob1.unsqueeze(1)\n",
    "            target_prob0 = target_prob0.cpu().numpy().squeeze(0)\n",
    "            target_prob1 = target_prob1.cpu().numpy().squeeze(0)\n",
    "            \n",
    "            target_j = target_j.cpu().numpy().squeeze(0)\n",
    "            target = target.cpu().numpy().squeeze(0)\n",
    "            data = data.cpu().numpy().squeeze(0)\n",
    "            mask = mask.cpu().numpy().squeeze(0)\n",
    "            \n",
    "            batch_samples[\"pred\"] = np.where(target==2,np.nan,target_j)\n",
    "            batch_samples[\"data\"] = np.where(target==2,np.nan,data)\n",
    "            batch_samples[\"label\"] = np.where(target==2,np.nan,target)\n",
    "            batch_samples[\"prob0\"] =  np.where(target==2,np.nan,target_prob0)\n",
    "            batch_samples[\"prob1\"] =  np.where(target==2,np.nan,target_prob1)\n",
    "            \n",
    "            pred_samples.append(batch_samples)\n",
    "    return pred_samples\n",
    "\n",
    "pred_samples = pred(model, test_data)\n",
    "print(\"done\")"
   ]
  },
  {
   "cell_type": "code",
   "execution_count": 18,
   "metadata": {},
   "outputs": [],
   "source": [
    "pred_save_path = os.path.join(dataset_path, \"valid_pred\")\n",
    "if not os.path.exists(pred_save_path):\n",
    "    os.makedirs(pred_save_path)\n",
    "\n",
    "for i,pred_sample in enumerate(pred_samples):\n",
    "    pred_sample_file = f'pred_sample_{i}'\n",
    "    np.save(os.path.join(pred_save_path, pred_sample_file), pred_sample) "
   ]
  },
  {
   "cell_type": "code",
   "execution_count": 2,
   "metadata": {},
   "outputs": [],
   "source": [
    "draw.draw_samples(pred_samples[0:5], [\"data\", \"label\", \"pred\"],cmap=[\"gray\", \"jet\", \"jet\"],validation=True)"
   ]
  },
  {
   "cell_type": "code",
   "execution_count": 3,
   "metadata": {},
   "outputs": [
    {
     "data": {
      "image/png": "[encoded data removed]",
      "text/plain": [
       "<Figure size 864x288 with 2 Axes>"
      ]
     },
     "metadata": {
      "needs_background": "light"
     },
     "output_type": "display_data"
    }
   ],
   "source": [
    "import numpy as np\n",
    "import matplotlib.pyplot as plt\n",
    "\n",
    "def smooth(v, w=0.85):\n",
    "    last = v[0]\n",
    "    smoothed = []\n",
    "    for point in v:\n",
    "        smoothed_val = last * w + (1 - w) * point\n",
    "        smoothed.append(smoothed_val)\n",
    "        last = smoothed_val\n",
    "    return smoothed  \n",
    "\n",
    "\n",
    "logs = np.load(\"./checkpoints/DeepLab-largescale/logs.npy\",allow_pickle=True)\n",
    "# print(logs.item())\n",
    "epoch_loss_train = logs.item()['epoch_loss_train']\n",
    "epoch_loss_valid = logs.item()['epoch_loss_valid']\n",
    "epoch_lr = logs.item()['epoch_lr']\n",
    "\n",
    "x = [i for i in range(201)]\n",
    "fig = plt.figure(figsize=(12,4))\n",
    "ax = fig.add_subplot(1, 2, 1)\n",
    "ax.plot(x, smooth(epoch_loss_train, 0.01), label='Training loss', linewidth=2)\n",
    "ax.plot(x, smooth(epoch_loss_valid, 0.01), label='Validation loss',linewidth=2)\n",
    "ax.set_xlabel('Epoch', fontsize=15)\n",
    "ax.set_ylabel('Loss', fontsize=15)\n",
    "ax.set_title(f'Training curve', fontsize=15)\n",
    "ax.grid(True)\n",
    "plt.ylim(0.0,0.8)\n",
    "plt.xticks([0,50,100,150,200],fontsize=12)\n",
    "plt.yticks([0,0.2,0.4,0.6,0.8],fontsize=12)\n",
    "plt.legend(loc='upper right', fontsize=12)\n",
    "\n",
    "ax = fig.add_subplot(1, 2, 2)\n",
    "ax.plot(x, epoch_lr,  label='Learning Rate',linewidth=2)\n",
    "ax.set_xlabel('Epoch', fontsize=15)\n",
    "ax.set_ylabel('Learning Rate($\\\\times 10^{-2}$)', fontsize=15)\n",
    "ax.set_title(f'Learning rate curve', fontsize=15)\n",
    "ax.grid(True)\n",
    "plt.xticks([0,50,100,150,200],fontsize=12)\n",
    "plt.yticks([0,0.002,0.004,0.006,0.008,0.010],[0,0.2,0.4,0.6,0.8,1.0],fontsize=12)\n",
    "plt.legend(loc='upper right', fontsize=12)\n",
    "plt.tight_layout()\n",
    "# plt.show()\n",
    "# plt.savefig(\"loss.png\",bbox_inches='tight',dpi=300)"
   ]
  },
  {
   "cell_type": "code",
   "execution_count": null,
   "metadata": {},
   "outputs": [],
   "source": []
  }
 ],
 "metadata": {
  "kernelspec": {
   "display_name": "Python 3 (ipykernel)",
   "language": "python",
   "name": "python3"
  },
  "language_info": {
   "codemirror_mode": {
    "name": "ipython",
    "version": 3
   },
   "file_extension": ".py",
   "mimetype": "text/x-python",
   "name": "python",
   "nbconvert_exporter": "python",
   "pygments_lexer": "ipython3",
   "version": "3.9.1"
  }
 },
 "nbformat": 4,
 "nbformat_minor": 4
}
